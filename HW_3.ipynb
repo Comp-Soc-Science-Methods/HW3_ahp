{
 "cells": [
  {
   "cell_type": "code",
   "execution_count": 28,
   "id": "e40667cc-a521-4fdb-a0c4-593a63ed5d2b",
   "metadata": {},
   "outputs": [],
   "source": [
    "import pandas as pd\n",
    "\n",
    "linkGoogle='https://docs.google.com/spreadsheets/d/e/2PACX-1vR2eCmEXBjON6o1KoFom5vy6bctoneONXa1nWSPpj-zsSVbFfpvlVb5_QZBLwm7kw/pub?output=xlsx'"
   ]
  },
  {
   "cell_type": "code",
   "execution_count": 29,
   "id": "8a78aff6-f91d-42c3-b1b9-eb3eb9a4f593",
   "metadata": {},
   "outputs": [
    {
     "data": {
      "text/html": [
       "<div>\n",
       "<style scoped>\n",
       "    .dataframe tbody tr th:only-of-type {\n",
       "        vertical-align: middle;\n",
       "    }\n",
       "\n",
       "    .dataframe tbody tr th {\n",
       "        vertical-align: top;\n",
       "    }\n",
       "\n",
       "    .dataframe thead th {\n",
       "        text-align: right;\n",
       "    }\n",
       "</style>\n",
       "<table border=\"1\" class=\"dataframe\">\n",
       "  <thead>\n",
       "    <tr style=\"text-align: right;\">\n",
       "      <th></th>\n",
       "      <th>School A</th>\n",
       "      <th>School B</th>\n",
       "      <th>School C</th>\n",
       "    </tr>\n",
       "  </thead>\n",
       "  <tbody>\n",
       "    <tr>\n",
       "      <th>School A</th>\n",
       "      <td>NaN</td>\n",
       "      <td>0.333333</td>\n",
       "      <td>0.5</td>\n",
       "    </tr>\n",
       "    <tr>\n",
       "      <th>School B</th>\n",
       "      <td>3.0</td>\n",
       "      <td>NaN</td>\n",
       "      <td>3.0</td>\n",
       "    </tr>\n",
       "    <tr>\n",
       "      <th>School C</th>\n",
       "      <td>2.0</td>\n",
       "      <td>0.333333</td>\n",
       "      <td>NaN</td>\n",
       "    </tr>\n",
       "  </tbody>\n",
       "</table>\n",
       "</div>"
      ],
      "text/plain": [
       "          School A  School B  School C\n",
       "School A       NaN  0.333333       0.5\n",
       "School B       3.0       NaN       3.0\n",
       "School C       2.0  0.333333       NaN"
      ]
     },
     "execution_count": 29,
     "metadata": {},
     "output_type": "execute_result"
    }
   ],
   "source": [
    "pairwise_learning=pd.read_excel(linkGoogle,sheet_name='learning', index_col=0)\n",
    "pairwise_learning"
   ]
  },
  {
   "cell_type": "code",
   "execution_count": 30,
   "id": "bfd1a7d8-f175-4f24-979a-63d80f81bc5b",
   "metadata": {},
   "outputs": [
    {
     "data": {
      "text/html": [
       "<div>\n",
       "<style scoped>\n",
       "    .dataframe tbody tr th:only-of-type {\n",
       "        vertical-align: middle;\n",
       "    }\n",
       "\n",
       "    .dataframe tbody tr th {\n",
       "        vertical-align: top;\n",
       "    }\n",
       "\n",
       "    .dataframe thead th {\n",
       "        text-align: right;\n",
       "    }\n",
       "</style>\n",
       "<table border=\"1\" class=\"dataframe\">\n",
       "  <thead>\n",
       "    <tr style=\"text-align: right;\">\n",
       "      <th></th>\n",
       "      <th>learning</th>\n",
       "      <th>friends</th>\n",
       "      <th>school life</th>\n",
       "      <th>vocational training</th>\n",
       "      <th>college prep</th>\n",
       "      <th>music classes</th>\n",
       "    </tr>\n",
       "  </thead>\n",
       "  <tbody>\n",
       "    <tr>\n",
       "      <th>learning</th>\n",
       "      <td>NaN</td>\n",
       "      <td>4.000000</td>\n",
       "      <td>3.0</td>\n",
       "      <td>1.0</td>\n",
       "      <td>3.000000</td>\n",
       "      <td>4.000000</td>\n",
       "    </tr>\n",
       "    <tr>\n",
       "      <th>friends</th>\n",
       "      <td>0.250000</td>\n",
       "      <td>NaN</td>\n",
       "      <td>7.0</td>\n",
       "      <td>3.0</td>\n",
       "      <td>0.200000</td>\n",
       "      <td>1.000000</td>\n",
       "    </tr>\n",
       "    <tr>\n",
       "      <th>school life</th>\n",
       "      <td>0.333333</td>\n",
       "      <td>0.142857</td>\n",
       "      <td>NaN</td>\n",
       "      <td>0.2</td>\n",
       "      <td>0.200000</td>\n",
       "      <td>0.166667</td>\n",
       "    </tr>\n",
       "    <tr>\n",
       "      <th>vocational training</th>\n",
       "      <td>1.000000</td>\n",
       "      <td>0.333333</td>\n",
       "      <td>5.0</td>\n",
       "      <td>NaN</td>\n",
       "      <td>1.000000</td>\n",
       "      <td>0.333333</td>\n",
       "    </tr>\n",
       "    <tr>\n",
       "      <th>college prep</th>\n",
       "      <td>0.333333</td>\n",
       "      <td>5.000000</td>\n",
       "      <td>5.0</td>\n",
       "      <td>1.0</td>\n",
       "      <td>NaN</td>\n",
       "      <td>3.000000</td>\n",
       "    </tr>\n",
       "    <tr>\n",
       "      <th>music classes</th>\n",
       "      <td>0.250000</td>\n",
       "      <td>1.000000</td>\n",
       "      <td>6.0</td>\n",
       "      <td>3.0</td>\n",
       "      <td>0.333333</td>\n",
       "      <td>NaN</td>\n",
       "    </tr>\n",
       "  </tbody>\n",
       "</table>\n",
       "</div>"
      ],
      "text/plain": [
       "                     learning   friends  school life  vocational training  \\\n",
       "learning                  NaN  4.000000          3.0                  1.0   \n",
       "friends              0.250000       NaN          7.0                  3.0   \n",
       "school life          0.333333  0.142857          NaN                  0.2   \n",
       "vocational training  1.000000  0.333333          5.0                  NaN   \n",
       "college prep         0.333333  5.000000          5.0                  1.0   \n",
       "music classes        0.250000  1.000000          6.0                  3.0   \n",
       "\n",
       "                     college prep  music classes  \n",
       "learning                 3.000000       4.000000  \n",
       "friends                  0.200000       1.000000  \n",
       "school life              0.200000       0.166667  \n",
       "vocational training      1.000000       0.333333  \n",
       "college prep                  NaN       3.000000  \n",
       "music classes            0.333333            NaN  "
      ]
     },
     "execution_count": 30,
     "metadata": {},
     "output_type": "execute_result"
    }
   ],
   "source": [
    "pairwise_friends=pd.read_excel(linkGoogle,sheet_name='friends', index_col=0)\n",
    "pairwise_school_life=pd.read_excel(linkGoogle,sheet_name='school life', index_col=0)\n",
    "pairwise_vocational=pd.read_excel(linkGoogle,sheet_name='vocational training', index_col=0)\n",
    "pairwise_college_prep=pd.read_excel(linkGoogle,sheet_name='college prep', index_col=0)\n",
    "pairwise_music=pd.read_excel(linkGoogle,sheet_name='music classes', index_col=0)\n",
    "pairwise_criteria=pd.read_excel(linkGoogle,sheet_name='criteria', index_col=0)\n",
    "pairwise_criteria"
   ]
  },
  {
   "cell_type": "code",
   "execution_count": 31,
   "id": "b55e9c9a-2d91-4c0e-9739-fd083a077c96",
   "metadata": {},
   "outputs": [
    {
     "data": {
      "text/plain": [
       "OutMultiEdgeDataView([('School A', 'School A', {'weight': nan}), ('School A', 'School B', {'weight': 0.3333333333333333}), ('School A', 'School C', {'weight': 0.5}), ('School B', 'School B', {'weight': nan}), ('School B', 'School A', {'weight': 3.0}), ('School B', 'School C', {'weight': 3.0}), ('School C', 'School C', {'weight': nan}), ('School C', 'School A', {'weight': 2.0}), ('School C', 'School B', {'weight': 0.3333333333333333})])"
      ]
     },
     "execution_count": 31,
     "metadata": {},
     "output_type": "execute_result"
    }
   ],
   "source": [
    "import networkx as nx\n",
    "\n",
    "G_learning = nx.from_pandas_adjacency(pairwise_learning, \n",
    "                                 create_using=nx.MultiDiGraph())\n",
    "\n",
    "# pairwise\n",
    "G_learning.edges(data=True)"
   ]
  },
  {
   "cell_type": "code",
   "execution_count": 32,
   "id": "e05b5d2f-eab4-49c8-a6a1-425b601a767e",
   "metadata": {},
   "outputs": [],
   "source": [
    "import numpy as np \n",
    "learning_comparisons={(e[0],e[1]):e[2]['weight'] for e in G_learning.edges(data=True) if np.isfinite(e[2]['weight'])}"
   ]
  },
  {
   "cell_type": "code",
   "execution_count": 33,
   "id": "f8a34ec9-b62a-42a4-9ccf-91c6bf8ac8dc",
   "metadata": {},
   "outputs": [],
   "source": [
    "# remaining comparisons\n",
    "G_friends = nx.from_pandas_adjacency(pairwise_friends,create_using=nx.MultiDiGraph())\n",
    "friends_comparisons={(e[0],e[1]):e[2]['weight'] for e in G_friends.edges(data=True) if np.isfinite(e[2]['weight'])}\n",
    "\n",
    "G_school_life = nx.from_pandas_adjacency(pairwise_school_life,create_using=nx.MultiDiGraph())\n",
    "school_life_comparisons={(e[0],e[1]):e[2]['weight'] for e in G_school_life.edges(data=True) if np.isfinite(e[2]['weight'])}\n",
    "\n",
    "G_vocational = nx.from_pandas_adjacency(pairwise_vocational,create_using=nx.MultiDiGraph())\n",
    "vocational_comparisons={(e[0],e[1]):e[2]['weight'] for e in G_vocational.edges(data=True) if np.isfinite(e[2]['weight'])}\n",
    "\n",
    "G_college_prep = nx.from_pandas_adjacency(pairwise_college_prep,create_using=nx.MultiDiGraph())\n",
    "college_prep_comparisons={(e[0],e[1]):e[2]['weight'] for e in G_college_prep.edges(data=True) if np.isfinite(e[2]['weight'])}\n",
    "\n",
    "G_music = nx.from_pandas_adjacency(pairwise_music,create_using=nx.MultiDiGraph())\n",
    "music_comparisons={(e[0],e[1]):e[2]['weight'] for e in G_music.edges(data=True) if np.isfinite(e[2]['weight'])}"
   ]
  },
  {
   "cell_type": "code",
   "execution_count": 34,
   "id": "ad4770fa-949f-47dd-bb07-859ccf93e955",
   "metadata": {},
   "outputs": [
    {
     "data": {
      "text/plain": [
       "[{('School A', 'School B'): 0.3333333333333333,\n",
       "  ('School A', 'School C'): 0.5,\n",
       "  ('School B', 'School A'): 3.0,\n",
       "  ('School B', 'School C'): 3.0,\n",
       "  ('School C', 'School A'): 2.0,\n",
       "  ('School C', 'School B'): 0.3333333333333333},\n",
       " {('School A', 'School B'): 1.0,\n",
       "  ('School A', 'School C'): 1.0,\n",
       "  ('School B', 'School A'): 1.0,\n",
       "  ('School B', 'School C'): 1.0,\n",
       "  ('School C', 'School A'): 1.0,\n",
       "  ('School C', 'School B'): 1.0},\n",
       " {('School A', 'School B'): 9.0,\n",
       "  ('School A', 'School C'): 7.0,\n",
       "  ('School B', 'School A'): 0.1111111111111111,\n",
       "  ('School B', 'School C'): 0.2,\n",
       "  ('School C', 'School A'): 0.14285714285714285,\n",
       "  ('School C', 'School B'): 5.0},\n",
       " {('School A', 'School B'): 0.5,\n",
       "  ('School A', 'School C'): 1.0,\n",
       "  ('School B', 'School A'): 2.0,\n",
       "  ('School B', 'School C'): 2.0,\n",
       "  ('School C', 'School A'): 1.0,\n",
       "  ('School C', 'School B'): 0.5},\n",
       " {('School A', 'School B'): 6.0,\n",
       "  ('School A', 'School C'): 4.0,\n",
       "  ('School B', 'School A'): 0.16666666666666666,\n",
       "  ('School B', 'School C'): 0.3333333333333333,\n",
       "  ('School C', 'School A'): 0.25,\n",
       "  ('School C', 'School B'): 3.0}]"
      ]
     },
     "execution_count": 34,
     "metadata": {},
     "output_type": "execute_result"
    }
   ],
   "source": [
    "# checking\n",
    "[learning_comparisons, friends_comparisons,vocational_comparisons,college_prep_comparisons, music_comparisons]"
   ]
  },
  {
   "cell_type": "code",
   "execution_count": 35,
   "id": "f9416d1e-c1af-4184-86df-a0bde7f0a2dd",
   "metadata": {},
   "outputs": [
    {
     "data": {
      "text/plain": [
       "{('learning', 'friends'): 4.0,\n",
       " ('learning', 'school life'): 3.0,\n",
       " ('learning', 'vocational training'): 1.0,\n",
       " ('learning', 'college prep'): 3.0,\n",
       " ('learning', 'music classes'): 4.0,\n",
       " ('friends', 'learning'): 0.25,\n",
       " ('friends', 'school life'): 7.0,\n",
       " ('friends', 'vocational training'): 3.0,\n",
       " ('friends', 'college prep'): 0.2,\n",
       " ('friends', 'music classes'): 1.0,\n",
       " ('school life', 'learning'): 0.3333333333333333,\n",
       " ('school life', 'friends'): 0.14285714285714285,\n",
       " ('school life', 'vocational training'): 0.2,\n",
       " ('school life', 'college prep'): 0.2,\n",
       " ('school life', 'music classes'): 0.16666666666666666,\n",
       " ('vocational training', 'learning'): 1.0,\n",
       " ('vocational training', 'friends'): 0.3333333333333333,\n",
       " ('vocational training', 'school life'): 5.0,\n",
       " ('vocational training', 'college prep'): 1.0,\n",
       " ('vocational training', 'music classes'): 0.3333333333333333,\n",
       " ('college prep', 'learning'): 0.3333333333333333,\n",
       " ('college prep', 'friends'): 5.0,\n",
       " ('college prep', 'school life'): 5.0,\n",
       " ('college prep', 'vocational training'): 1.0,\n",
       " ('college prep', 'music classes'): 3.0,\n",
       " ('music classes', 'learning'): 0.25,\n",
       " ('music classes', 'friends'): 1.0,\n",
       " ('music classes', 'school life'): 6.0,\n",
       " ('music classes', 'vocational training'): 3.0,\n",
       " ('music classes', 'college prep'): 0.3333333333333333}"
      ]
     },
     "execution_count": 35,
     "metadata": {},
     "output_type": "execute_result"
    }
   ],
   "source": [
    "G_CRIT = nx.from_pandas_adjacency(pairwise_criteria,create_using=nx.MultiDiGraph())\n",
    "criteria_comparisons ={(e[0],e[1]):e[2]['weight'] for e in G_CRIT.edges(data=True) if np.isfinite(e[2]['weight'])}\n",
    "criteria_comparisons"
   ]
  },
  {
   "cell_type": "code",
   "execution_count": 36,
   "id": "e8e21f4f-282a-4d53-8b36-61cf8ea459a4",
   "metadata": {},
   "outputs": [
    {
     "name": "stdout",
     "output_type": "stream",
     "text": [
      "Collecting numpy==1.26.4\n",
      "  Using cached numpy-1.26.4-cp312-cp312-macosx_11_0_arm64.whl.metadata (61 kB)\n",
      "Using cached numpy-1.26.4-cp312-cp312-macosx_11_0_arm64.whl (13.7 MB)\n",
      "Installing collected packages: numpy\n",
      "  Attempting uninstall: numpy\n",
      "    Found existing installation: numpy 1.26.4\n",
      "    Uninstalling numpy-1.26.4:\n",
      "      Successfully uninstalled numpy-1.26.4\n",
      "Successfully installed numpy-1.26.4\n",
      "Requirement already satisfied: ahpy in /opt/anaconda3/lib/python3.12/site-packages (2.0)\n",
      "Requirement already satisfied: numpy in /opt/anaconda3/lib/python3.12/site-packages (from ahpy) (1.26.4)\n",
      "Requirement already satisfied: scipy in /opt/anaconda3/lib/python3.12/site-packages (from ahpy) (1.13.1)\n"
     ]
    }
   ],
   "source": [
    "!pip install --force-reinstall numpy==1.26.4\n",
    "!pip install ahpy"
   ]
  },
  {
   "cell_type": "code",
   "execution_count": 37,
   "id": "40568a14-18e7-4985-9966-0ebc3ca20081",
   "metadata": {},
   "outputs": [],
   "source": [
    "import ahpy\n",
    "\n",
    "learning = ahpy.Compare('learning', learning_comparisons, random_index='saaty')\n",
    "friends = ahpy.Compare('friends', friends_comparisons, random_index='saaty')\n",
    "school_life = ahpy.Compare('school life', school_life_comparisons, random_index='saaty')\n",
    "vocational_training = ahpy.Compare('vocational training', vocational_comparisons, random_index='saaty')\n",
    "college_prep = ahpy.Compare('college prep', college_prep_comparisons, random_index='saaty')\n",
    "music_classes = ahpy.Compare('music classes', music_comparisons, random_index='saaty')\n",
    "criteria = ahpy.Compare('criteria', criteria_comparisons, random_index='saaty')"
   ]
  },
  {
   "cell_type": "code",
   "execution_count": 38,
   "id": "69f97f1b-a7e8-4701-9f19-4a62f72cc827",
   "metadata": {},
   "outputs": [],
   "source": [
    "criteria.add_children([learning, friends, school_life, vocational_training, college_prep, music_classes])"
   ]
  },
  {
   "cell_type": "code",
   "execution_count": 51,
   "id": "4e86584b-df07-43fe-ad8e-21e395f9ae18",
   "metadata": {},
   "outputs": [
    {
     "name": "stdout",
     "output_type": "stream",
     "text": [
      "{'School B': 0.3785, 'School A': 0.3674, 'School C': 0.2542}\n"
     ]
    }
   ],
   "source": [
    "print(criteria.target_weights)"
   ]
  },
  {
   "cell_type": "code",
   "execution_count": 53,
   "id": "4da1118e-42fe-4fbf-842a-97a59af7664c",
   "metadata": {},
   "outputs": [
    {
     "data": {
      "text/plain": [
       "[('learning', 0.0516),\n",
       " ('friends', 0.0),\n",
       " ('school life', 0.0),\n",
       " ('vocational training', 0.2005),\n",
       " ('college prep', 0.0),\n",
       " ('music classes', 0.0516),\n",
       " ('criteria', 0.2272)]"
      ]
     },
     "execution_count": 53,
     "metadata": {},
     "output_type": "execute_result"
    }
   ],
   "source": [
    "# assess consistency\n",
    "\n",
    "[(val.name,val.consistency_ratio) for val in [learning, friends, school_life, vocational_training, college_prep, music_classes, criteria]]\n",
    "\n",
    "# a couple of values are greater than 0.1, but close enough and assuming this may have to do with ties"
   ]
  },
  {
   "cell_type": "code",
   "execution_count": null,
   "id": "7be1f567-189e-4922-a168-d2d73cb8d52f",
   "metadata": {},
   "outputs": [],
   "source": []
  }
 ],
 "metadata": {
  "kernelspec": {
   "display_name": "Python [conda env:base] *",
   "language": "python",
   "name": "conda-base-py"
  },
  "language_info": {
   "codemirror_mode": {
    "name": "ipython",
    "version": 3
   },
   "file_extension": ".py",
   "mimetype": "text/x-python",
   "name": "python",
   "nbconvert_exporter": "python",
   "pygments_lexer": "ipython3",
   "version": "3.12.2"
  }
 },
 "nbformat": 4,
 "nbformat_minor": 5
}
